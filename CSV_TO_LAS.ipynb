{
 "cells": [
  {
   "cell_type": "code",
   "execution_count": 1,
   "id": "ce26f7e6",
   "metadata": {},
   "outputs": [],
   "source": [
    "import lasio\n",
    "import pandas as pd"
   ]
  },
  {
   "cell_type": "code",
   "execution_count": 101,
   "id": "ec58a2a4",
   "metadata": {},
   "outputs": [],
   "source": [
    "data = pd.read_csv(\"C:\\\\Users\\\\joseaugustodias\\\\1-brsa-108a-ess_brsa_checkshot.csv\")"
   ]
  },
  {
   "cell_type": "code",
   "execution_count": 102,
   "id": "7e083b6c",
   "metadata": {},
   "outputs": [
    {
     "data": {
      "text/html": [
       "<div>\n",
       "<style scoped>\n",
       "    .dataframe tbody tr th:only-of-type {\n",
       "        vertical-align: middle;\n",
       "    }\n",
       "\n",
       "    .dataframe tbody tr th {\n",
       "        vertical-align: top;\n",
       "    }\n",
       "\n",
       "    .dataframe thead th {\n",
       "        text-align: right;\n",
       "    }\n",
       "</style>\n",
       "<table border=\"1\" class=\"dataframe\">\n",
       "  <thead>\n",
       "    <tr style=\"text-align: right;\">\n",
       "      <th></th>\n",
       "      <th>TDEP</th>\n",
       "      <th>GR_EDTC</th>\n",
       "      <th>NPHI</th>\n",
       "      <th>DTTS</th>\n",
       "    </tr>\n",
       "  </thead>\n",
       "  <tbody>\n",
       "    <tr>\n",
       "      <th>0</th>\n",
       "      <td>in</td>\n",
       "      <td>gAPI</td>\n",
       "      <td>m3/m3</td>\n",
       "      <td>us/ft</td>\n",
       "    </tr>\n",
       "    <tr>\n",
       "      <th>1</th>\n",
       "      <td>480300.0</td>\n",
       "      <td>32.94880676269531</td>\n",
       "      <td>0.20297512412071228</td>\n",
       "      <td>-999.25</td>\n",
       "    </tr>\n",
       "    <tr>\n",
       "      <th>2</th>\n",
       "      <td>480240.0</td>\n",
       "      <td>32.94880676269531</td>\n",
       "      <td>0.20297512412071228</td>\n",
       "      <td>-999.25</td>\n",
       "    </tr>\n",
       "    <tr>\n",
       "      <th>3</th>\n",
       "      <td>480180.0</td>\n",
       "      <td>32.94880676269531</td>\n",
       "      <td>0.20297512412071228</td>\n",
       "      <td>-999.25</td>\n",
       "    </tr>\n",
       "    <tr>\n",
       "      <th>4</th>\n",
       "      <td>480120.0</td>\n",
       "      <td>32.94880676269531</td>\n",
       "      <td>0.20297512412071228</td>\n",
       "      <td>-999.25</td>\n",
       "    </tr>\n",
       "  </tbody>\n",
       "</table>\n",
       "</div>"
      ],
      "text/plain": [
       "       TDEP            GR_EDTC                 NPHI     DTTS\n",
       "0        in               gAPI                m3/m3    us/ft\n",
       "1  480300.0  32.94880676269531  0.20297512412071228  -999.25\n",
       "2  480240.0  32.94880676269531  0.20297512412071228  -999.25\n",
       "3  480180.0  32.94880676269531  0.20297512412071228  -999.25\n",
       "4  480120.0  32.94880676269531  0.20297512412071228  -999.25"
      ]
     },
     "execution_count": 102,
     "metadata": {},
     "output_type": "execute_result"
    }
   ],
   "source": [
    "data.head()"
   ]
  },
  {
   "cell_type": "code",
   "execution_count": 103,
   "id": "3206051b",
   "metadata": {},
   "outputs": [],
   "source": [
    "data2 = data.drop(0)"
   ]
  },
  {
   "cell_type": "code",
   "execution_count": 104,
   "id": "7d6eff8a",
   "metadata": {},
   "outputs": [
    {
     "data": {
      "text/html": [
       "<div>\n",
       "<style scoped>\n",
       "    .dataframe tbody tr th:only-of-type {\n",
       "        vertical-align: middle;\n",
       "    }\n",
       "\n",
       "    .dataframe tbody tr th {\n",
       "        vertical-align: top;\n",
       "    }\n",
       "\n",
       "    .dataframe thead th {\n",
       "        text-align: right;\n",
       "    }\n",
       "</style>\n",
       "<table border=\"1\" class=\"dataframe\">\n",
       "  <thead>\n",
       "    <tr style=\"text-align: right;\">\n",
       "      <th></th>\n",
       "      <th>TDEP</th>\n",
       "      <th>GR_EDTC</th>\n",
       "      <th>NPHI</th>\n",
       "      <th>DTTS</th>\n",
       "    </tr>\n",
       "  </thead>\n",
       "  <tbody>\n",
       "    <tr>\n",
       "      <th>1</th>\n",
       "      <td>480300.0</td>\n",
       "      <td>32.94880676269531</td>\n",
       "      <td>0.20297512412071228</td>\n",
       "      <td>-999.25</td>\n",
       "    </tr>\n",
       "    <tr>\n",
       "      <th>2</th>\n",
       "      <td>480240.0</td>\n",
       "      <td>32.94880676269531</td>\n",
       "      <td>0.20297512412071228</td>\n",
       "      <td>-999.25</td>\n",
       "    </tr>\n",
       "    <tr>\n",
       "      <th>3</th>\n",
       "      <td>480180.0</td>\n",
       "      <td>32.94880676269531</td>\n",
       "      <td>0.20297512412071228</td>\n",
       "      <td>-999.25</td>\n",
       "    </tr>\n",
       "    <tr>\n",
       "      <th>4</th>\n",
       "      <td>480120.0</td>\n",
       "      <td>32.94880676269531</td>\n",
       "      <td>0.20297512412071228</td>\n",
       "      <td>-999.25</td>\n",
       "    </tr>\n",
       "    <tr>\n",
       "      <th>5</th>\n",
       "      <td>480060.0</td>\n",
       "      <td>32.94880676269531</td>\n",
       "      <td>0.20297512412071228</td>\n",
       "      <td>-999.25</td>\n",
       "    </tr>\n",
       "  </tbody>\n",
       "</table>\n",
       "</div>"
      ],
      "text/plain": [
       "       TDEP            GR_EDTC                 NPHI     DTTS\n",
       "1  480300.0  32.94880676269531  0.20297512412071228  -999.25\n",
       "2  480240.0  32.94880676269531  0.20297512412071228  -999.25\n",
       "3  480180.0  32.94880676269531  0.20297512412071228  -999.25\n",
       "4  480120.0  32.94880676269531  0.20297512412071228  -999.25\n",
       "5  480060.0  32.94880676269531  0.20297512412071228  -999.25"
      ]
     },
     "execution_count": 104,
     "metadata": {},
     "output_type": "execute_result"
    }
   ],
   "source": [
    "data2.head()"
   ]
  },
  {
   "cell_type": "code",
   "execution_count": 105,
   "id": "b703e0f0",
   "metadata": {},
   "outputs": [],
   "source": [
    "data = data2.astype(float, errors = 'raise')"
   ]
  },
  {
   "cell_type": "code",
   "execution_count": 106,
   "id": "3295204c",
   "metadata": {},
   "outputs": [
    {
     "name": "stdout",
     "output_type": "stream",
     "text": [
      "<class 'pandas.core.frame.DataFrame'>\n",
      "RangeIndex: 952 entries, 1 to 952\n",
      "Data columns (total 4 columns):\n",
      " #   Column   Non-Null Count  Dtype  \n",
      "---  ------   --------------  -----  \n",
      " 0   TDEP     952 non-null    float64\n",
      " 1   GR_EDTC  952 non-null    float64\n",
      " 2   NPHI     952 non-null    float64\n",
      " 3   DTTS     952 non-null    float64\n",
      "dtypes: float64(4)\n",
      "memory usage: 29.9 KB\n"
     ]
    }
   ],
   "source": [
    "data.info()"
   ]
  },
  {
   "cell_type": "code",
   "execution_count": 107,
   "id": "e72d3295",
   "metadata": {},
   "outputs": [],
   "source": [
    "las_file = lasio.LASFile()"
   ]
  },
  {
   "cell_type": "code",
   "execution_count": 108,
   "id": "8e3e9fa2",
   "metadata": {},
   "outputs": [
    {
     "data": {
      "text/plain": [
       "{'Version': [HeaderItem(mnemonic=\"VERS\", unit=\"\", value=\"2.0\", descr=\"CWLS log ASCII Standa\"),\n",
       "  HeaderItem(mnemonic=\"WRAP\", unit=\"\", value=\"NO\", descr=\"One line per depth ste\"),\n",
       "  HeaderItem(mnemonic=\"DLM\", unit=\"\", value=\"SPACE\", descr=\"Column Data Section \")],\n",
       " 'Well': [HeaderItem(mnemonic=\"STRT\", unit=\"m\", value=\"nan\", descr=\"START DEPTH\"),\n",
       "  HeaderItem(mnemonic=\"STOP\", unit=\"m\", value=\"nan\", descr=\"STOP DEPTH\"),\n",
       "  HeaderItem(mnemonic=\"STEP\", unit=\"m\", value=\"nan\", descr=\"STEP\"),\n",
       "  HeaderItem(mnemonic=\"NULL\", unit=\"\", value=\"-9999.25\", descr=\"NULL VALUE\"),\n",
       "  HeaderItem(mnemonic=\"COMP\", unit=\"\", value=\"\", descr=\"COMPANY\"),\n",
       "  HeaderItem(mnemonic=\"WELL\", unit=\"\", value=\"\", descr=\"WELL\"),\n",
       "  HeaderItem(mnemonic=\"FLD\", unit=\"\", value=\"\", descr=\"FIELD\"),\n",
       "  HeaderItem(mnemonic=\"LOC\", unit=\"\", value=\"\", descr=\"LOCATION\"),\n",
       "  HeaderItem(mnemonic=\"PROV\", unit=\"\", value=\"\", descr=\"PROVINCE\"),\n",
       "  HeaderItem(mnemonic=\"CNTY\", unit=\"\", value=\"\", descr=\"COUNTY\"),\n",
       "  HeaderItem(mnemonic=\"STAT\", unit=\"\", value=\"\", descr=\"STATE\"),\n",
       "  HeaderItem(mnemonic=\"CTRY\", unit=\"\", value=\"\", descr=\"COUNTRY\"),\n",
       "  HeaderItem(mnemonic=\"SRVC\", unit=\"\", value=\"\", descr=\"SERVICE COMPANY\"),\n",
       "  HeaderItem(mnemonic=\"DATE\", unit=\"\", value=\"\", descr=\"DATE\"),\n",
       "  HeaderItem(mnemonic=\"UWI\", unit=\"\", value=\"\", descr=\"UNIQUE WELL ID\"),\n",
       "  HeaderItem(mnemonic=\"API\", unit=\"\", value=\"\", descr=\"API NUMBER\")],\n",
       " 'Curves': [],\n",
       " 'Parameter': [],\n",
       " 'Other': ''}"
      ]
     },
     "execution_count": 108,
     "metadata": {},
     "output_type": "execute_result"
    }
   ],
   "source": [
    "las_file.header"
   ]
  },
  {
   "cell_type": "code",
   "execution_count": 109,
   "id": "3636206e",
   "metadata": {},
   "outputs": [],
   "source": [
    "well_name = 'Random Well'\n",
    "field_name = 'Random Field'\n",
    "uwi = '123456789'\n",
    "country = 'Random Country'"
   ]
  },
  {
   "cell_type": "code",
   "execution_count": 110,
   "id": "e40f3c6c",
   "metadata": {},
   "outputs": [],
   "source": [
    "las_file.well['WELL'] = lasio.HeaderItem('WELL', value=well_name)\n",
    "las_file.well['FLD'] = lasio.HeaderItem('FLD', value=field_name)\n",
    "las_file.well['UWI'] = lasio.HeaderItem('UWI', value=uwi)\n",
    "las_file.well['CTRY'] = lasio.HeaderItem('CTRY', value=country)"
   ]
  },
  {
   "cell_type": "code",
   "execution_count": 111,
   "id": "abf3aa07",
   "metadata": {},
   "outputs": [
    {
     "data": {
      "text/plain": [
       "{'Version': [HeaderItem(mnemonic=\"VERS\", unit=\"\", value=\"2.0\", descr=\"CWLS log ASCII Standa\"),\n",
       "  HeaderItem(mnemonic=\"WRAP\", unit=\"\", value=\"NO\", descr=\"One line per depth ste\"),\n",
       "  HeaderItem(mnemonic=\"DLM\", unit=\"\", value=\"SPACE\", descr=\"Column Data Section \")],\n",
       " 'Well': [HeaderItem(mnemonic=\"STRT\", unit=\"m\", value=\"nan\", descr=\"START DEPTH\"),\n",
       "  HeaderItem(mnemonic=\"STOP\", unit=\"m\", value=\"nan\", descr=\"STOP DEPTH\"),\n",
       "  HeaderItem(mnemonic=\"STEP\", unit=\"m\", value=\"nan\", descr=\"STEP\"),\n",
       "  HeaderItem(mnemonic=\"NULL\", unit=\"\", value=\"-9999.25\", descr=\"NULL VALUE\"),\n",
       "  HeaderItem(mnemonic=\"COMP\", unit=\"\", value=\"\", descr=\"COMPANY\"),\n",
       "  HeaderItem(mnemonic=\"WELL\", unit=\"\", value=\"Random Well\", descr=\"\"),\n",
       "  HeaderItem(mnemonic=\"FLD\", unit=\"\", value=\"Random Field\", descr=\"\"),\n",
       "  HeaderItem(mnemonic=\"LOC\", unit=\"\", value=\"\", descr=\"LOCATION\"),\n",
       "  HeaderItem(mnemonic=\"PROV\", unit=\"\", value=\"\", descr=\"PROVINCE\"),\n",
       "  HeaderItem(mnemonic=\"CNTY\", unit=\"\", value=\"\", descr=\"COUNTY\"),\n",
       "  HeaderItem(mnemonic=\"STAT\", unit=\"\", value=\"\", descr=\"STATE\"),\n",
       "  HeaderItem(mnemonic=\"CTRY\", unit=\"\", value=\"Random Country\", descr=\"\"),\n",
       "  HeaderItem(mnemonic=\"SRVC\", unit=\"\", value=\"\", descr=\"SERVICE COMPANY\"),\n",
       "  HeaderItem(mnemonic=\"DATE\", unit=\"\", value=\"\", descr=\"DATE\"),\n",
       "  HeaderItem(mnemonic=\"UWI\", unit=\"\", value=\"123456789\", descr=\"\"),\n",
       "  HeaderItem(mnemonic=\"API\", unit=\"\", value=\"\", descr=\"API NUMBER\")],\n",
       " 'Curves': [],\n",
       " 'Parameter': [],\n",
       " 'Other': ''}"
      ]
     },
     "execution_count": 111,
     "metadata": {},
     "output_type": "execute_result"
    }
   ],
   "source": [
    "las_file.header"
   ]
  },
  {
   "cell_type": "code",
   "execution_count": null,
   "id": "d47448e2",
   "metadata": {},
   "outputs": [],
   "source": []
  },
  {
   "cell_type": "code",
   "execution_count": 130,
   "id": "260db27a",
   "metadata": {},
   "outputs": [],
   "source": [
    "las_file.add_curve('DEPT', data2['TDEP'], unit='m')"
   ]
  },
  {
   "cell_type": "code",
   "execution_count": 131,
   "id": "ad862823",
   "metadata": {},
   "outputs": [],
   "source": [
    "units = data2.iloc[0]"
   ]
  },
  {
   "cell_type": "code",
   "execution_count": 145,
   "id": "4026db1e",
   "metadata": {},
   "outputs": [
    {
     "data": {
      "text/plain": [
       "['m', 'gAPI', 'm3/m3', 'us/ft']"
      ]
     },
     "execution_count": 145,
     "metadata": {},
     "output_type": "execute_result"
    }
   ],
   "source": [
    "units "
   ]
  },
  {
   "cell_type": "code",
   "execution_count": 146,
   "id": "fb5db29c",
   "metadata": {},
   "outputs": [],
   "source": [
    "#units = ['m', 'gAPI','m3/m3','us/ft']"
   ]
  },
  {
   "cell_type": "code",
   "execution_count": 147,
   "id": "c6b67ef2",
   "metadata": {},
   "outputs": [],
   "source": [
    "for col, unit in zip(data2.columns, units):\n",
    "    if col != 'DEPTH':\n",
    "        las_file.add_curve(col, data[col], unit=unit)"
   ]
  },
  {
   "cell_type": "code",
   "execution_count": 148,
   "id": "0c2114b7",
   "metadata": {},
   "outputs": [
    {
     "data": {
      "text/plain": [
       "[CurveItem(mnemonic=\"DEPT:1\", unit=\"m\", value=\"\", descr=\"\", original_mnemonic=\"DEPT\", data.shape=(952,)),\n",
       " CurveItem(mnemonic=\"TDEP:1\", unit=\"m\", value=\"\", descr=\"\", original_mnemonic=\"TDEP\", data.shape=(952,)),\n",
       " CurveItem(mnemonic=\"GR_EDTC:1\", unit=\"gAPI\", value=\"\", descr=\"\", original_mnemonic=\"GR_EDTC\", data.shape=(952,)),\n",
       " CurveItem(mnemonic=\"NPHI:1\", unit=\"m3/m3\", value=\"\", descr=\"\", original_mnemonic=\"NPHI\", data.shape=(952,)),\n",
       " CurveItem(mnemonic=\"DTTS:1\", unit=\"us/ft\", value=\"\", descr=\"\", original_mnemonic=\"DTTS\", data.shape=(952,)),\n",
       " CurveItem(mnemonic=\"DEPT:2\", unit=\"m\", value=\"\", descr=\"\", original_mnemonic=\"DEPT\", data.shape=(952,)),\n",
       " CurveItem(mnemonic=\"TDEP:2\", unit=\"480300.0\", value=\"\", descr=\"\", original_mnemonic=\"TDEP\", data.shape=(952,)),\n",
       " CurveItem(mnemonic=\"GR_EDTC:2\", unit=\"32.94880676269531\", value=\"\", descr=\"\", original_mnemonic=\"GR_EDTC\", data.shape=(952,)),\n",
       " CurveItem(mnemonic=\"NPHI:2\", unit=\"0.20297512412071228\", value=\"\", descr=\"\", original_mnemonic=\"NPHI\", data.shape=(952,)),\n",
       " CurveItem(mnemonic=\"DTTS:2\", unit=\"-999.25\", value=\"\", descr=\"\", original_mnemonic=\"DTTS\", data.shape=(952,)),\n",
       " CurveItem(mnemonic=\"DEPT:3\", unit=\"m\", value=\"\", descr=\"\", original_mnemonic=\"DEPT\", data.shape=(952,)),\n",
       " CurveItem(mnemonic=\"TDEP:3\", unit=\"480300.0\", value=\"\", descr=\"\", original_mnemonic=\"TDEP\", data.shape=(952,)),\n",
       " CurveItem(mnemonic=\"GR_EDTC:3\", unit=\"32.94880676269531\", value=\"\", descr=\"\", original_mnemonic=\"GR_EDTC\", data.shape=(952,)),\n",
       " CurveItem(mnemonic=\"NPHI:3\", unit=\"0.20297512412071228\", value=\"\", descr=\"\", original_mnemonic=\"NPHI\", data.shape=(952,)),\n",
       " CurveItem(mnemonic=\"DTTS:3\", unit=\"-999.25\", value=\"\", descr=\"\", original_mnemonic=\"DTTS\", data.shape=(952,)),\n",
       " CurveItem(mnemonic=\"TDEP:4\", unit=\"m\", value=\"\", descr=\"\", original_mnemonic=\"TDEP\", data.shape=(952,)),\n",
       " CurveItem(mnemonic=\"GR_EDTC:4\", unit=\"gAPI\", value=\"\", descr=\"\", original_mnemonic=\"GR_EDTC\", data.shape=(952,)),\n",
       " CurveItem(mnemonic=\"NPHI:4\", unit=\"m3/m3\", value=\"\", descr=\"\", original_mnemonic=\"NPHI\", data.shape=(952,)),\n",
       " CurveItem(mnemonic=\"DTTS:4\", unit=\"us/ft\", value=\"\", descr=\"\", original_mnemonic=\"DTTS\", data.shape=(952,)),\n",
       " CurveItem(mnemonic=\"TDEP:5\", unit=\"m\", value=\"\", descr=\"\", original_mnemonic=\"TDEP\", data.shape=(952,)),\n",
       " CurveItem(mnemonic=\"GR_EDTC:5\", unit=\"gAPI\", value=\"\", descr=\"\", original_mnemonic=\"GR_EDTC\", data.shape=(952,)),\n",
       " CurveItem(mnemonic=\"NPHI:5\", unit=\"m3/m3\", value=\"\", descr=\"\", original_mnemonic=\"NPHI\", data.shape=(952,)),\n",
       " CurveItem(mnemonic=\"DTTS:5\", unit=\"us/ft\", value=\"\", descr=\"\", original_mnemonic=\"DTTS\", data.shape=(952,)),\n",
       " CurveItem(mnemonic=\"TDEP:6\", unit=\"m\", value=\"\", descr=\"\", original_mnemonic=\"TDEP\", data.shape=(952,)),\n",
       " CurveItem(mnemonic=\"GR_EDTC:6\", unit=\"gAPI\", value=\"\", descr=\"\", original_mnemonic=\"GR_EDTC\", data.shape=(952,)),\n",
       " CurveItem(mnemonic=\"NPHI:6\", unit=\"m3/m3\", value=\"\", descr=\"\", original_mnemonic=\"NPHI\", data.shape=(952,)),\n",
       " CurveItem(mnemonic=\"DTTS:6\", unit=\"us/ft\", value=\"\", descr=\"\", original_mnemonic=\"DTTS\", data.shape=(952,))]"
      ]
     },
     "execution_count": 148,
     "metadata": {},
     "output_type": "execute_result"
    }
   ],
   "source": [
    "las_file.curves"
   ]
  },
  {
   "cell_type": "code",
   "execution_count": 149,
   "id": "35470db6",
   "metadata": {},
   "outputs": [
    {
     "ename": "KeyError",
     "evalue": "\"GR_EDTC not found in curves (['DEPT:1', 'TDEP:1', 'GR_EDTC:1', 'NPHI:1', 'DTTS:1', 'DEPT:2', 'TDEP:2', 'GR_EDTC:2', 'NPHI:2', 'DTTS:2', 'DEPT:3', 'TDEP:3', 'GR_EDTC:3', 'NPHI:3', 'DTTS:3', 'TDEP:4', 'GR_EDTC:4', 'NPHI:4', 'DTTS:4', 'TDEP:5', 'GR_EDTC:5', 'NPHI:5', 'DTTS:5', 'TDEP:6', 'GR_EDTC:6', 'NPHI:6', 'DTTS:6'])\"",
     "output_type": "error",
     "traceback": [
      "\u001b[1;31m---------------------------------------------------------------------------\u001b[0m",
      "\u001b[1;31mKeyError\u001b[0m                                  Traceback (most recent call last)",
      "\u001b[1;32m~\\AppData\\Local\\Temp\\ipykernel_2028\\1611193856.py\u001b[0m in \u001b[0;36m<module>\u001b[1;34m\u001b[0m\n\u001b[1;32m----> 1\u001b[1;33m \u001b[0mlas_file\u001b[0m\u001b[1;33m[\u001b[0m\u001b[1;34m'GR_EDTC'\u001b[0m\u001b[1;33m]\u001b[0m\u001b[1;33m\u001b[0m\u001b[1;33m\u001b[0m\u001b[0m\n\u001b[0m",
      "\u001b[1;32m~\\AppData\\Roaming\\Python\\Python39\\site-packages\\lasio\\las.py\u001b[0m in \u001b[0;36m__getitem__\u001b[1;34m(self, key)\u001b[0m\n\u001b[0;32m    707\u001b[0m             \u001b[1;32mreturn\u001b[0m \u001b[0mself\u001b[0m\u001b[1;33m.\u001b[0m\u001b[0mcurves\u001b[0m\u001b[1;33m[\u001b[0m\u001b[0mkey\u001b[0m\u001b[1;33m]\u001b[0m\u001b[1;33m.\u001b[0m\u001b[0mdata\u001b[0m\u001b[1;33m\u001b[0m\u001b[1;33m\u001b[0m\u001b[0m\n\u001b[0;32m    708\u001b[0m         \u001b[1;32melse\u001b[0m\u001b[1;33m:\u001b[0m\u001b[1;33m\u001b[0m\u001b[1;33m\u001b[0m\u001b[0m\n\u001b[1;32m--> 709\u001b[1;33m             \u001b[1;32mraise\u001b[0m \u001b[0mKeyError\u001b[0m\u001b[1;33m(\u001b[0m\u001b[1;34m\"{} not found in curves ({})\"\u001b[0m\u001b[1;33m.\u001b[0m\u001b[0mformat\u001b[0m\u001b[1;33m(\u001b[0m\u001b[0mkey\u001b[0m\u001b[1;33m,\u001b[0m \u001b[0mcurve_mnemonics\u001b[0m\u001b[1;33m)\u001b[0m\u001b[1;33m)\u001b[0m\u001b[1;33m\u001b[0m\u001b[1;33m\u001b[0m\u001b[0m\n\u001b[0m\u001b[0;32m    710\u001b[0m \u001b[1;33m\u001b[0m\u001b[0m\n\u001b[0;32m    711\u001b[0m     \u001b[1;32mdef\u001b[0m \u001b[0m__setitem__\u001b[0m\u001b[1;33m(\u001b[0m\u001b[0mself\u001b[0m\u001b[1;33m,\u001b[0m \u001b[0mkey\u001b[0m\u001b[1;33m,\u001b[0m \u001b[0mvalue\u001b[0m\u001b[1;33m)\u001b[0m\u001b[1;33m:\u001b[0m\u001b[1;33m\u001b[0m\u001b[1;33m\u001b[0m\u001b[0m\n",
      "\u001b[1;31mKeyError\u001b[0m: \"GR_EDTC not found in curves (['DEPT:1', 'TDEP:1', 'GR_EDTC:1', 'NPHI:1', 'DTTS:1', 'DEPT:2', 'TDEP:2', 'GR_EDTC:2', 'NPHI:2', 'DTTS:2', 'DEPT:3', 'TDEP:3', 'GR_EDTC:3', 'NPHI:3', 'DTTS:3', 'TDEP:4', 'GR_EDTC:4', 'NPHI:4', 'DTTS:4', 'TDEP:5', 'GR_EDTC:5', 'NPHI:5', 'DTTS:5', 'TDEP:6', 'GR_EDTC:6', 'NPHI:6', 'DTTS:6'])\""
     ]
    }
   ],
   "source": [
    "las_file['GR_EDTC']"
   ]
  },
  {
   "cell_type": "code",
   "execution_count": 151,
   "id": "978eb6a5",
   "metadata": {},
   "outputs": [],
   "source": [
    "las_file.write(\"C:\\\\Users\\\\joseaugustodias\\\\Desktop\\\\Csv_to_las.las\")"
   ]
  },
  {
   "cell_type": "code",
   "execution_count": null,
   "id": "d2fc7dfb",
   "metadata": {},
   "outputs": [],
   "source": []
  }
 ],
 "metadata": {
  "kernelspec": {
   "display_name": "Python 3 (ipykernel)",
   "language": "python",
   "name": "python3"
  },
  "language_info": {
   "codemirror_mode": {
    "name": "ipython",
    "version": 3
   },
   "file_extension": ".py",
   "mimetype": "text/x-python",
   "name": "python",
   "nbconvert_exporter": "python",
   "pygments_lexer": "ipython3",
   "version": "3.9.13"
  }
 },
 "nbformat": 4,
 "nbformat_minor": 5
}
